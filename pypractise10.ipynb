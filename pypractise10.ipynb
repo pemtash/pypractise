{
 "cells": [
  {
   "cell_type": "markdown",
   "metadata": {},
   "source": [
    "### Functions in python\n",
    "\n",
    "- why function\n",
    "- function Definition\n",
    "- positional and keyword arguments in function"
   ]
  },
  {
   "cell_type": "code",
   "execution_count": 1,
   "metadata": {
    "ExecuteTime": {
     "end_time": "2021-09-28T02:44:41.772862Z",
     "start_time": "2021-09-28T02:44:41.755874Z"
    }
   },
   "outputs": [
    {
     "name": "stdout",
     "output_type": "stream",
     "text": [
      "the number is even\n"
     ]
    }
   ],
   "source": [
    "num = 24 \n",
    "\n",
    "if num%2==0:\n",
    "    print ('the number is even')\n",
    "else:\n",
    "    print(\"the number is odd\")"
   ]
  },
  {
   "cell_type": "code",
   "execution_count": 2,
   "metadata": {
    "ExecuteTime": {
     "end_time": "2021-09-28T02:45:22.800552Z",
     "start_time": "2021-09-28T02:45:22.792558Z"
    }
   },
   "outputs": [],
   "source": [
    "def even_odd(num):\n",
    "    if num%2==0:\n",
    "        print ('the number is even')\n",
    "    else:\n",
    "        print(\"the number is odd\")"
   ]
  },
  {
   "cell_type": "code",
   "execution_count": 3,
   "metadata": {
    "ExecuteTime": {
     "end_time": "2021-09-28T02:45:31.109219Z",
     "start_time": "2021-09-28T02:45:31.098226Z"
    }
   },
   "outputs": [
    {
     "name": "stdout",
     "output_type": "stream",
     "text": [
      "the number is odd\n"
     ]
    }
   ],
   "source": [
    "even_odd(23)"
   ]
  },
  {
   "cell_type": "code",
   "execution_count": 4,
   "metadata": {
    "ExecuteTime": {
     "end_time": "2021-09-28T02:45:51.096678Z",
     "start_time": "2021-09-28T02:45:50.821398Z"
    }
   },
   "outputs": [
    {
     "ename": "TypeError",
     "evalue": "even_odd() missing 1 required positional argument: 'num'",
     "output_type": "error",
     "traceback": [
      "\u001b[1;31m---------------------------------------------------------------------------\u001b[0m",
      "\u001b[1;31mTypeError\u001b[0m                                 Traceback (most recent call last)",
      "\u001b[1;32m<ipython-input-4-8339b1802614>\u001b[0m in \u001b[0;36m<module>\u001b[1;34m\u001b[0m\n\u001b[1;32m----> 1\u001b[1;33m \u001b[0meven_odd\u001b[0m\u001b[1;33m(\u001b[0m\u001b[1;33m)\u001b[0m\u001b[1;33m\u001b[0m\u001b[1;33m\u001b[0m\u001b[0m\n\u001b[0m",
      "\u001b[1;31mTypeError\u001b[0m: even_odd() missing 1 required positional argument: 'num'"
     ]
    }
   ],
   "source": [
    "even_odd()"
   ]
  },
  {
   "cell_type": "code",
   "execution_count": 5,
   "metadata": {
    "ExecuteTime": {
     "end_time": "2021-09-28T02:46:16.717261Z",
     "start_time": "2021-09-28T02:46:16.707267Z"
    }
   },
   "outputs": [],
   "source": [
    "# we see that we missed positional argument"
   ]
  },
  {
   "cell_type": "code",
   "execution_count": 6,
   "metadata": {
    "ExecuteTime": {
     "end_time": "2021-09-28T02:46:48.829903Z",
     "start_time": "2021-09-28T02:46:48.821907Z"
    }
   },
   "outputs": [],
   "source": [
    "# print vs return\n",
    "\n",
    "def hello_world():\n",
    "    print('Welcome')"
   ]
  },
  {
   "cell_type": "code",
   "execution_count": 8,
   "metadata": {
    "ExecuteTime": {
     "end_time": "2021-09-28T02:46:59.348017Z",
     "start_time": "2021-09-28T02:46:59.335024Z"
    }
   },
   "outputs": [
    {
     "name": "stdout",
     "output_type": "stream",
     "text": [
      "Welcome\n"
     ]
    }
   ],
   "source": [
    "hello_world()"
   ]
  },
  {
   "cell_type": "code",
   "execution_count": 9,
   "metadata": {
    "ExecuteTime": {
     "end_time": "2021-09-28T02:47:16.534725Z",
     "start_time": "2021-09-28T02:47:16.521732Z"
    }
   },
   "outputs": [
    {
     "name": "stdout",
     "output_type": "stream",
     "text": [
      "Welcome\n"
     ]
    }
   ],
   "source": [
    "val = hello_world()"
   ]
  },
  {
   "cell_type": "code",
   "execution_count": 10,
   "metadata": {
    "ExecuteTime": {
     "end_time": "2021-09-28T02:47:25.392108Z",
     "start_time": "2021-09-28T02:47:25.376120Z"
    }
   },
   "outputs": [
    {
     "name": "stdout",
     "output_type": "stream",
     "text": [
      "None\n"
     ]
    }
   ],
   "source": [
    "print(val)"
   ]
  },
  {
   "cell_type": "code",
   "execution_count": 11,
   "metadata": {
    "ExecuteTime": {
     "end_time": "2021-09-28T02:48:06.821939Z",
     "start_time": "2021-09-28T02:48:06.816942Z"
    }
   },
   "outputs": [],
   "source": [
    "# this means that funtion doesnt return anything"
   ]
  },
  {
   "cell_type": "code",
   "execution_count": 16,
   "metadata": {
    "ExecuteTime": {
     "end_time": "2021-09-28T02:49:48.238399Z",
     "start_time": "2021-09-28T02:49:48.228402Z"
    }
   },
   "outputs": [],
   "source": [
    "def hello_world1():\n",
    "    return'Welcome'"
   ]
  },
  {
   "cell_type": "code",
   "execution_count": 17,
   "metadata": {
    "ExecuteTime": {
     "end_time": "2021-09-28T02:49:49.429767Z",
     "start_time": "2021-09-28T02:49:49.422941Z"
    }
   },
   "outputs": [
    {
     "data": {
      "text/plain": [
       "'Welcome'"
      ]
     },
     "execution_count": 17,
     "metadata": {},
     "output_type": "execute_result"
    }
   ],
   "source": [
    "hello_world1()"
   ]
  },
  {
   "cell_type": "code",
   "execution_count": 18,
   "metadata": {
    "ExecuteTime": {
     "end_time": "2021-09-28T02:49:50.563394Z",
     "start_time": "2021-09-28T02:49:50.548404Z"
    }
   },
   "outputs": [],
   "source": [
    "val1 = hello_world1()"
   ]
  },
  {
   "cell_type": "code",
   "execution_count": 19,
   "metadata": {
    "ExecuteTime": {
     "end_time": "2021-09-28T02:49:51.360464Z",
     "start_time": "2021-09-28T02:49:51.344474Z"
    }
   },
   "outputs": [
    {
     "data": {
      "text/plain": [
       "'Welcome'"
      ]
     },
     "execution_count": 19,
     "metadata": {},
     "output_type": "execute_result"
    }
   ],
   "source": [
    "val1"
   ]
  },
  {
   "cell_type": "code",
   "execution_count": 21,
   "metadata": {
    "ExecuteTime": {
     "end_time": "2021-09-28T02:50:33.611530Z",
     "start_time": "2021-09-28T02:50:33.606533Z"
    }
   },
   "outputs": [],
   "source": [
    "def add(num1,num2):\n",
    "    return num1+num2"
   ]
  },
  {
   "cell_type": "code",
   "execution_count": 22,
   "metadata": {
    "ExecuteTime": {
     "end_time": "2021-09-28T02:50:46.914154Z",
     "start_time": "2021-09-28T02:50:46.898166Z"
    }
   },
   "outputs": [],
   "source": [
    "val = add(2,10)"
   ]
  },
  {
   "cell_type": "code",
   "execution_count": 23,
   "metadata": {
    "ExecuteTime": {
     "end_time": "2021-09-28T02:50:50.350116Z",
     "start_time": "2021-09-28T02:50:50.330129Z"
    }
   },
   "outputs": [
    {
     "data": {
      "text/plain": [
       "12"
      ]
     },
     "execution_count": 23,
     "metadata": {},
     "output_type": "execute_result"
    }
   ],
   "source": [
    "val"
   ]
  },
  {
   "cell_type": "code",
   "execution_count": 29,
   "metadata": {
    "ExecuteTime": {
     "end_time": "2021-09-28T02:53:55.761246Z",
     "start_time": "2021-09-28T02:53:55.754251Z"
    }
   },
   "outputs": [],
   "source": [
    "def hello(name, age=28): # here name is positional and age is keyword argument\n",
    "    print('My name is {} and age is {}'.format(name,age))"
   ]
  },
  {
   "cell_type": "code",
   "execution_count": 25,
   "metadata": {
    "ExecuteTime": {
     "end_time": "2021-09-28T02:51:56.484106Z",
     "start_time": "2021-09-28T02:51:56.465120Z"
    }
   },
   "outputs": [
    {
     "name": "stdout",
     "output_type": "stream",
     "text": [
      "My name is pema and age is 28\n"
     ]
    }
   ],
   "source": [
    "hello('pema')"
   ]
  },
  {
   "cell_type": "code",
   "execution_count": 26,
   "metadata": {
    "ExecuteTime": {
     "end_time": "2021-09-28T02:52:05.811676Z",
     "start_time": "2021-09-28T02:52:05.792690Z"
    }
   },
   "outputs": [
    {
     "ename": "TypeError",
     "evalue": "hello() missing 1 required positional argument: 'name'",
     "output_type": "error",
     "traceback": [
      "\u001b[1;31m---------------------------------------------------------------------------\u001b[0m",
      "\u001b[1;31mTypeError\u001b[0m                                 Traceback (most recent call last)",
      "\u001b[1;32m<ipython-input-26-a75d7781aaeb>\u001b[0m in \u001b[0;36m<module>\u001b[1;34m\u001b[0m\n\u001b[1;32m----> 1\u001b[1;33m \u001b[0mhello\u001b[0m\u001b[1;33m(\u001b[0m\u001b[1;33m)\u001b[0m\u001b[1;33m\u001b[0m\u001b[1;33m\u001b[0m\u001b[0m\n\u001b[0m",
      "\u001b[1;31mTypeError\u001b[0m: hello() missing 1 required positional argument: 'name'"
     ]
    }
   ],
   "source": [
    "hello()"
   ]
  },
  {
   "cell_type": "code",
   "execution_count": 28,
   "metadata": {
    "ExecuteTime": {
     "end_time": "2021-09-28T02:52:34.903698Z",
     "start_time": "2021-09-28T02:52:34.899701Z"
    }
   },
   "outputs": [],
   "source": [
    "# error POSITIONAL ARGUMENT"
   ]
  },
  {
   "cell_type": "code",
   "execution_count": 30,
   "metadata": {
    "ExecuteTime": {
     "end_time": "2021-09-28T02:55:25.743317Z",
     "start_time": "2021-09-28T02:55:25.740319Z"
    }
   },
   "outputs": [],
   "source": [
    "# if we want age (keyword argument ) to make it to positional argument,\n",
    "# we need to remove the ( = ) and its value"
   ]
  },
  {
   "cell_type": "code",
   "execution_count": 31,
   "metadata": {
    "ExecuteTime": {
     "end_time": "2021-09-28T02:56:44.839049Z",
     "start_time": "2021-09-28T02:56:44.822055Z"
    }
   },
   "outputs": [],
   "source": [
    "def student(name, age):\n",
    "    print('sname is {} and age is {}'.format(name,age))"
   ]
  },
  {
   "cell_type": "code",
   "execution_count": 33,
   "metadata": {
    "ExecuteTime": {
     "end_time": "2021-09-28T02:57:06.725725Z",
     "start_time": "2021-09-28T02:57:06.714729Z"
    }
   },
   "outputs": [
    {
     "name": "stdout",
     "output_type": "stream",
     "text": [
      "sname is pema and age is 28\n"
     ]
    }
   ],
   "source": [
    "student('pema',28)"
   ]
  },
  {
   "cell_type": "code",
   "execution_count": 35,
   "metadata": {
    "ExecuteTime": {
     "end_time": "2021-09-28T02:57:37.066074Z",
     "start_time": "2021-09-28T02:57:37.050079Z"
    }
   },
   "outputs": [],
   "source": [
    "# here we see that age is positional argument"
   ]
  },
  {
   "cell_type": "code",
   "execution_count": 36,
   "metadata": {
    "ExecuteTime": {
     "end_time": "2021-09-28T02:58:21.195800Z",
     "start_time": "2021-09-28T02:58:21.183811Z"
    }
   },
   "outputs": [],
   "source": [
    "def hello(*args,**kwargs):\n",
    "    print(args)\n",
    "    print(kwargs)"
   ]
  },
  {
   "cell_type": "code",
   "execution_count": 37,
   "metadata": {
    "ExecuteTime": {
     "end_time": "2021-09-28T02:59:36.025208Z",
     "start_time": "2021-09-28T02:59:36.005221Z"
    }
   },
   "outputs": [
    {
     "name": "stdout",
     "output_type": "stream",
     "text": [
      "('pema', 'tashi')\n",
      "{'age': 25, 'dob': 1995}\n"
     ]
    }
   ],
   "source": [
    "hello('pema','tashi',age= 25, dob=1995)"
   ]
  },
  {
   "cell_type": "code",
   "execution_count": 38,
   "metadata": {
    "ExecuteTime": {
     "end_time": "2021-09-28T03:01:04.644803Z",
     "start_time": "2021-09-28T03:01:04.631811Z"
    }
   },
   "outputs": [],
   "source": [
    "lst=['pema', 'tashi']\n",
    "dist_args = {'age': 25, 'dob': 1995}"
   ]
  },
  {
   "cell_type": "code",
   "execution_count": 39,
   "metadata": {
    "ExecuteTime": {
     "end_time": "2021-09-28T03:01:18.690648Z",
     "start_time": "2021-09-28T03:01:18.677658Z"
    }
   },
   "outputs": [
    {
     "name": "stdout",
     "output_type": "stream",
     "text": [
      "(['pema', 'tashi'], {'age': 25, 'dob': 1995})\n",
      "{}\n"
     ]
    }
   ],
   "source": [
    "hello(lst,dist_args)"
   ]
  },
  {
   "cell_type": "code",
   "execution_count": 40,
   "metadata": {
    "ExecuteTime": {
     "end_time": "2021-09-28T03:02:11.533470Z",
     "start_time": "2021-09-28T03:02:11.528471Z"
    }
   },
   "outputs": [],
   "source": [
    "# here by default both is taking as args which is wrong"
   ]
  },
  {
   "cell_type": "code",
   "execution_count": 41,
   "metadata": {
    "ExecuteTime": {
     "end_time": "2021-09-28T03:02:32.988352Z",
     "start_time": "2021-09-28T03:02:32.976362Z"
    }
   },
   "outputs": [
    {
     "name": "stdout",
     "output_type": "stream",
     "text": [
      "('pema', 'tashi')\n",
      "{'age': 25, 'dob': 1995}\n"
     ]
    }
   ],
   "source": [
    "hello(*lst,**dist_args)"
   ]
  },
  {
   "cell_type": "code",
   "execution_count": 42,
   "metadata": {
    "ExecuteTime": {
     "end_time": "2021-09-28T03:03:36.136472Z",
     "start_time": "2021-09-28T03:03:36.129477Z"
    }
   },
   "outputs": [],
   "source": [
    "lst = [1,2,3,4,5,6,7]\n"
   ]
  },
  {
   "cell_type": "code",
   "execution_count": 45,
   "metadata": {
    "ExecuteTime": {
     "end_time": "2021-09-28T03:07:00.194988Z",
     "start_time": "2021-09-28T03:07:00.181998Z"
    }
   },
   "outputs": [],
   "source": [
    "def evenoddsum(lst):\n",
    "    even_sum = 0\n",
    "    odd_sum = 0\n",
    "    for i in lst:\n",
    "        if i%2 == 0:\n",
    "            even_sum = even_sum + i\n",
    "        else:\n",
    "            odd_sum = odd_sum + i\n",
    "    return even_sum, odd_sum"
   ]
  },
  {
   "cell_type": "code",
   "execution_count": 46,
   "metadata": {
    "ExecuteTime": {
     "end_time": "2021-09-28T03:07:01.194054Z",
     "start_time": "2021-09-28T03:07:01.176065Z"
    }
   },
   "outputs": [
    {
     "data": {
      "text/plain": [
       "(12, 16)"
      ]
     },
     "execution_count": 46,
     "metadata": {},
     "output_type": "execute_result"
    }
   ],
   "source": [
    "evenoddsum(lst)"
   ]
  },
  {
   "cell_type": "code",
   "execution_count": null,
   "metadata": {},
   "outputs": [],
   "source": []
  }
 ],
 "metadata": {
  "kernelspec": {
   "display_name": "Python 3",
   "language": "python",
   "name": "python3"
  },
  "language_info": {
   "codemirror_mode": {
    "name": "ipython",
    "version": 3
   },
   "file_extension": ".py",
   "mimetype": "text/x-python",
   "name": "python",
   "nbconvert_exporter": "python",
   "pygments_lexer": "ipython3",
   "version": "3.8.3"
  },
  "varInspector": {
   "cols": {
    "lenName": 16,
    "lenType": 16,
    "lenVar": 40
   },
   "kernels_config": {
    "python": {
     "delete_cmd_postfix": "",
     "delete_cmd_prefix": "del ",
     "library": "var_list.py",
     "varRefreshCmd": "print(var_dic_list())"
    },
    "r": {
     "delete_cmd_postfix": ") ",
     "delete_cmd_prefix": "rm(",
     "library": "var_list.r",
     "varRefreshCmd": "cat(var_dic_list()) "
    }
   },
   "types_to_exclude": [
    "module",
    "function",
    "builtin_function_or_method",
    "instance",
    "_Feature"
   ],
   "window_display": false
  }
 },
 "nbformat": 4,
 "nbformat_minor": 4
}
