{
 "cells": [
  {
   "cell_type": "markdown",
   "metadata": {},
   "source": [
    "### Map function in python"
   ]
  },
  {
   "cell_type": "code",
   "execution_count": 1,
   "metadata": {
    "ExecuteTime": {
     "end_time": "2021-09-29T06:00:41.613854Z",
     "start_time": "2021-09-29T06:00:41.599862Z"
    }
   },
   "outputs": [],
   "source": [
    "def even_odd(num):\n",
    "    if num%2==0:\n",
    "        return True\n",
    "    else:\n",
    "        return False"
   ]
  },
  {
   "cell_type": "code",
   "execution_count": 2,
   "metadata": {
    "ExecuteTime": {
     "end_time": "2021-09-29T06:00:47.994957Z",
     "start_time": "2021-09-29T06:00:47.973970Z"
    }
   },
   "outputs": [
    {
     "data": {
      "text/plain": [
       "False"
      ]
     },
     "execution_count": 2,
     "metadata": {},
     "output_type": "execute_result"
    }
   ],
   "source": [
    "even_odd(5)"
   ]
  },
  {
   "cell_type": "code",
   "execution_count": 5,
   "metadata": {
    "ExecuteTime": {
     "end_time": "2021-09-29T06:03:01.784446Z",
     "start_time": "2021-09-29T06:03:01.768458Z"
    }
   },
   "outputs": [],
   "source": [
    "def even_odd1(num):\n",
    "    if num%2==0:\n",
    "        return \" The number {} is Even\".format(num)\n",
    "    else:\n",
    "        return \" The number {} is Odd\".format(num)"
   ]
  },
  {
   "cell_type": "code",
   "execution_count": 6,
   "metadata": {
    "ExecuteTime": {
     "end_time": "2021-09-29T06:03:03.855907Z",
     "start_time": "2021-09-29T06:03:03.840917Z"
    }
   },
   "outputs": [
    {
     "data": {
      "text/plain": [
       "' The number 1236 is Even'"
      ]
     },
     "execution_count": 6,
     "metadata": {},
     "output_type": "execute_result"
    }
   ],
   "source": [
    "even_odd1(1236)"
   ]
  },
  {
   "cell_type": "code",
   "execution_count": 7,
   "metadata": {
    "ExecuteTime": {
     "end_time": "2021-09-29T06:03:36.276942Z",
     "start_time": "2021-09-29T06:03:36.269946Z"
    }
   },
   "outputs": [],
   "source": [
    "lst = [1,2,3,4,5,6,7,8,9,123,12343,235,5432]"
   ]
  },
  {
   "cell_type": "code",
   "execution_count": 8,
   "metadata": {
    "ExecuteTime": {
     "end_time": "2021-09-29T06:06:06.743585Z",
     "start_time": "2021-09-29T06:06:06.725597Z"
    }
   },
   "outputs": [
    {
     "data": {
      "text/plain": [
       "<map at 0x173f96c85e0>"
      ]
     },
     "execution_count": 8,
     "metadata": {},
     "output_type": "execute_result"
    }
   ],
   "source": [
    "map(even_odd1,lst)"
   ]
  },
  {
   "cell_type": "code",
   "execution_count": 9,
   "metadata": {
    "ExecuteTime": {
     "end_time": "2021-09-29T06:07:18.453717Z",
     "start_time": "2021-09-29T06:07:18.446722Z"
    }
   },
   "outputs": [],
   "source": [
    "# lazy loading technique, memory hasn't been instantiated"
   ]
  },
  {
   "cell_type": "code",
   "execution_count": 10,
   "metadata": {
    "ExecuteTime": {
     "end_time": "2021-09-29T06:07:30.623708Z",
     "start_time": "2021-09-29T06:07:30.610716Z"
    }
   },
   "outputs": [],
   "source": [
    "# we use list to instantiated"
   ]
  },
  {
   "cell_type": "code",
   "execution_count": 11,
   "metadata": {
    "ExecuteTime": {
     "end_time": "2021-09-29T06:07:53.728283Z",
     "start_time": "2021-09-29T06:07:53.716290Z"
    }
   },
   "outputs": [
    {
     "data": {
      "text/plain": [
       "[' The number 1 is Odd',\n",
       " ' The number 2 is Even',\n",
       " ' The number 3 is Odd',\n",
       " ' The number 4 is Even',\n",
       " ' The number 5 is Odd',\n",
       " ' The number 6 is Even',\n",
       " ' The number 7 is Odd',\n",
       " ' The number 8 is Even',\n",
       " ' The number 9 is Odd',\n",
       " ' The number 123 is Odd',\n",
       " ' The number 12343 is Odd',\n",
       " ' The number 235 is Odd',\n",
       " ' The number 5432 is Even']"
      ]
     },
     "execution_count": 11,
     "metadata": {},
     "output_type": "execute_result"
    }
   ],
   "source": [
    "list(map(even_odd1, lst))"
   ]
  },
  {
   "cell_type": "code",
   "execution_count": 13,
   "metadata": {
    "ExecuteTime": {
     "end_time": "2021-09-29T06:09:00.653701Z",
     "start_time": "2021-09-29T06:09:00.633712Z"
    }
   },
   "outputs": [
    {
     "data": {
      "text/plain": [
       "[False,\n",
       " True,\n",
       " False,\n",
       " True,\n",
       " False,\n",
       " True,\n",
       " False,\n",
       " True,\n",
       " False,\n",
       " False,\n",
       " False,\n",
       " False,\n",
       " True]"
      ]
     },
     "execution_count": 13,
     "metadata": {},
     "output_type": "execute_result"
    }
   ],
   "source": [
    "list(map(even_odd, lst))"
   ]
  },
  {
   "cell_type": "code",
   "execution_count": 15,
   "metadata": {
    "ExecuteTime": {
     "end_time": "2021-09-29T06:12:12.562869Z",
     "start_time": "2021-09-29T06:12:12.547881Z"
    }
   },
   "outputs": [],
   "source": [
    "def even_odd2(num):\n",
    "    if num%2==0:\n",
    "        return \"The given number {} is Even\".format(num)\n",
    "    else:\n",
    "        return \"The given number {} is Odd\".format(num)\n"
   ]
  },
  {
   "cell_type": "code",
   "execution_count": 16,
   "metadata": {
    "ExecuteTime": {
     "end_time": "2021-09-29T06:13:40.965128Z",
     "start_time": "2021-09-29T06:13:40.959130Z"
    }
   },
   "outputs": [],
   "source": [
    "lst=[2,34,53,234,53,4553,2345,567,778,76554,1234]"
   ]
  },
  {
   "cell_type": "code",
   "execution_count": 18,
   "metadata": {
    "ExecuteTime": {
     "end_time": "2021-09-29T06:14:20.518527Z",
     "start_time": "2021-09-29T06:14:20.498541Z"
    }
   },
   "outputs": [
    {
     "data": {
      "text/plain": [
       "'The given number 156 is Even'"
      ]
     },
     "execution_count": 18,
     "metadata": {},
     "output_type": "execute_result"
    }
   ],
   "source": [
    "even_odd2(156)"
   ]
  },
  {
   "cell_type": "code",
   "execution_count": 19,
   "metadata": {
    "ExecuteTime": {
     "end_time": "2021-09-29T06:14:50.173113Z",
     "start_time": "2021-09-29T06:14:50.151127Z"
    }
   },
   "outputs": [
    {
     "data": {
      "text/plain": [
       "['The given number 2 is Even',\n",
       " 'The given number 34 is Even',\n",
       " 'The given number 53 is Odd',\n",
       " 'The given number 234 is Even',\n",
       " 'The given number 53 is Odd',\n",
       " 'The given number 4553 is Odd',\n",
       " 'The given number 2345 is Odd',\n",
       " 'The given number 567 is Odd',\n",
       " 'The given number 778 is Even',\n",
       " 'The given number 76554 is Even',\n",
       " 'The given number 1234 is Even']"
      ]
     },
     "execution_count": 19,
     "metadata": {},
     "output_type": "execute_result"
    }
   ],
   "source": [
    "list(map(even_odd2,lst))"
   ]
  },
  {
   "cell_type": "markdown",
   "metadata": {},
   "source": [
    "### Filter function in python"
   ]
  },
  {
   "cell_type": "code",
   "execution_count": 22,
   "metadata": {
    "ExecuteTime": {
     "end_time": "2021-09-29T06:17:20.658051Z",
     "start_time": "2021-09-29T06:17:20.641058Z"
    }
   },
   "outputs": [],
   "source": [
    "def even(i):\n",
    "    if i%2 == 0:\n",
    "        return True"
   ]
  },
  {
   "cell_type": "code",
   "execution_count": 23,
   "metadata": {
    "ExecuteTime": {
     "end_time": "2021-09-29T06:17:23.301091Z",
     "start_time": "2021-09-29T06:17:23.286095Z"
    }
   },
   "outputs": [],
   "source": [
    "lst=[1,2,3,4,5,6,7,8,9]"
   ]
  },
  {
   "cell_type": "code",
   "execution_count": 24,
   "metadata": {
    "ExecuteTime": {
     "end_time": "2021-09-29T06:25:48.328184Z",
     "start_time": "2021-09-29T06:25:48.309193Z"
    }
   },
   "outputs": [
    {
     "data": {
      "text/plain": [
       "<filter at 0x173f94a0df0>"
      ]
     },
     "execution_count": 24,
     "metadata": {},
     "output_type": "execute_result"
    }
   ],
   "source": [
    "filter(even,lst)"
   ]
  },
  {
   "cell_type": "code",
   "execution_count": 25,
   "metadata": {
    "ExecuteTime": {
     "end_time": "2021-09-29T06:26:01.023931Z",
     "start_time": "2021-09-29T06:26:01.007943Z"
    }
   },
   "outputs": [
    {
     "data": {
      "text/plain": [
       "[2, 4, 6, 8]"
      ]
     },
     "execution_count": 25,
     "metadata": {},
     "output_type": "execute_result"
    }
   ],
   "source": [
    "list(filter(even,lst))"
   ]
  },
  {
   "cell_type": "code",
   "execution_count": 26,
   "metadata": {
    "ExecuteTime": {
     "end_time": "2021-09-29T06:26:48.939846Z",
     "start_time": "2021-09-29T06:26:48.921856Z"
    }
   },
   "outputs": [],
   "source": [
    "# which ever its returning True will show (it filters the value)"
   ]
  },
  {
   "cell_type": "code",
   "execution_count": 27,
   "metadata": {
    "ExecuteTime": {
     "end_time": "2021-09-29T06:27:56.843384Z",
     "start_time": "2021-09-29T06:27:56.829391Z"
    }
   },
   "outputs": [
    {
     "data": {
      "text/plain": [
       "[2, 4, 6, 8]"
      ]
     },
     "execution_count": 27,
     "metadata": {},
     "output_type": "execute_result"
    }
   ],
   "source": [
    "list(filter(lambda num: num%2==0, lst))"
   ]
  },
  {
   "cell_type": "code",
   "execution_count": 28,
   "metadata": {
    "ExecuteTime": {
     "end_time": "2021-09-29T06:28:21.882412Z",
     "start_time": "2021-09-29T06:28:21.865423Z"
    }
   },
   "outputs": [
    {
     "data": {
      "text/plain": [
       "[False, True, False, True, False, True, False, True, False]"
      ]
     },
     "execution_count": 28,
     "metadata": {},
     "output_type": "execute_result"
    }
   ],
   "source": [
    "list(map(lambda num: num%2==0, lst))"
   ]
  },
  {
   "cell_type": "code",
   "execution_count": 29,
   "metadata": {
    "ExecuteTime": {
     "end_time": "2021-09-29T06:28:55.920115Z",
     "start_time": "2021-09-29T06:28:55.904122Z"
    }
   },
   "outputs": [],
   "source": [
    "# here map will return both true and false"
   ]
  },
  {
   "cell_type": "code",
   "execution_count": null,
   "metadata": {},
   "outputs": [],
   "source": []
  }
 ],
 "metadata": {
  "kernelspec": {
   "display_name": "Python 3",
   "language": "python",
   "name": "python3"
  },
  "language_info": {
   "codemirror_mode": {
    "name": "ipython",
    "version": 3
   },
   "file_extension": ".py",
   "mimetype": "text/x-python",
   "name": "python",
   "nbconvert_exporter": "python",
   "pygments_lexer": "ipython3",
   "version": "3.8.3"
  },
  "varInspector": {
   "cols": {
    "lenName": 16,
    "lenType": 16,
    "lenVar": 40
   },
   "kernels_config": {
    "python": {
     "delete_cmd_postfix": "",
     "delete_cmd_prefix": "del ",
     "library": "var_list.py",
     "varRefreshCmd": "print(var_dic_list())"
    },
    "r": {
     "delete_cmd_postfix": ") ",
     "delete_cmd_prefix": "rm(",
     "library": "var_list.r",
     "varRefreshCmd": "cat(var_dic_list()) "
    }
   },
   "types_to_exclude": [
    "module",
    "function",
    "builtin_function_or_method",
    "instance",
    "_Feature"
   ],
   "window_display": false
  }
 },
 "nbformat": 4,
 "nbformat_minor": 4
}
