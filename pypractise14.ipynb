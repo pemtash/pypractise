{
 "cells": [
  {
   "cell_type": "markdown",
   "metadata": {},
   "source": [
    "### String Formating in Python"
   ]
  },
  {
   "cell_type": "code",
   "execution_count": 1,
   "metadata": {
    "ExecuteTime": {
     "end_time": "2021-10-02T02:53:39.388068Z",
     "start_time": "2021-10-02T02:53:39.375076Z"
    }
   },
   "outputs": [
    {
     "name": "stdout",
     "output_type": "stream",
     "text": [
      "hello\n"
     ]
    }
   ],
   "source": [
    "print(\"hello\")"
   ]
  },
  {
   "cell_type": "code",
   "execution_count": 4,
   "metadata": {
    "ExecuteTime": {
     "end_time": "2021-10-02T02:54:14.232969Z",
     "start_time": "2021-10-02T02:54:14.224974Z"
    }
   },
   "outputs": [],
   "source": [
    "strs = 'hello'# basic way of storing in variables"
   ]
  },
  {
   "cell_type": "code",
   "execution_count": 3,
   "metadata": {
    "ExecuteTime": {
     "end_time": "2021-10-02T02:53:53.135803Z",
     "start_time": "2021-10-02T02:53:53.117820Z"
    }
   },
   "outputs": [
    {
     "data": {
      "text/plain": [
       "'hello'"
      ]
     },
     "execution_count": 3,
     "metadata": {},
     "output_type": "execute_result"
    }
   ],
   "source": [
    "strs"
   ]
  },
  {
   "cell_type": "code",
   "execution_count": 5,
   "metadata": {
    "ExecuteTime": {
     "end_time": "2021-10-02T02:55:01.278343Z",
     "start_time": "2021-10-02T02:55:01.263357Z"
    }
   },
   "outputs": [],
   "source": [
    "def greeting(name):\n",
    "    return \" Hello {}\".format(name)\n",
    "# {} place holder"
   ]
  },
  {
   "cell_type": "code",
   "execution_count": 7,
   "metadata": {
    "ExecuteTime": {
     "end_time": "2021-10-02T02:55:13.899427Z",
     "start_time": "2021-10-02T02:55:13.880441Z"
    }
   },
   "outputs": [
    {
     "data": {
      "text/plain": [
       "' Hello pema'"
      ]
     },
     "execution_count": 7,
     "metadata": {},
     "output_type": "execute_result"
    }
   ],
   "source": [
    "greeting('pema')"
   ]
  },
  {
   "cell_type": "code",
   "execution_count": 9,
   "metadata": {
    "ExecuteTime": {
     "end_time": "2021-10-02T02:57:04.098271Z",
     "start_time": "2021-10-02T02:57:04.088280Z"
    }
   },
   "outputs": [],
   "source": [
    "def greeting2(name,age):\n",
    "    return \"Hello {}, welcome to the comunity. you age is {}.\".format(name,age)"
   ]
  },
  {
   "cell_type": "code",
   "execution_count": 10,
   "metadata": {
    "ExecuteTime": {
     "end_time": "2021-10-02T02:57:19.668898Z",
     "start_time": "2021-10-02T02:57:19.659904Z"
    }
   },
   "outputs": [
    {
     "data": {
      "text/plain": [
       "'Hello pema, welcome to the comunity. you age is 28.'"
      ]
     },
     "execution_count": 10,
     "metadata": {},
     "output_type": "execute_result"
    }
   ],
   "source": [
    "greeting2('pema', 28)"
   ]
  },
  {
   "cell_type": "code",
   "execution_count": 13,
   "metadata": {
    "ExecuteTime": {
     "end_time": "2021-10-02T03:01:16.795252Z",
     "start_time": "2021-10-02T03:01:16.778263Z"
    }
   },
   "outputs": [],
   "source": [
    "def gretting3(name,age):\n",
    "    return \"Hello {nm1}, you have {ag1} years experience\".format(nm1=name, ag1=age)\n",
    "# here nm1 and ag1 is temporary variable name"
   ]
  },
  {
   "cell_type": "code",
   "execution_count": 14,
   "metadata": {
    "ExecuteTime": {
     "end_time": "2021-10-02T03:01:18.783598Z",
     "start_time": "2021-10-02T03:01:18.770603Z"
    }
   },
   "outputs": [
    {
     "data": {
      "text/plain": [
       "'Hello pema, you have 2 years experience'"
      ]
     },
     "execution_count": 14,
     "metadata": {},
     "output_type": "execute_result"
    }
   ],
   "source": [
    "gretting3(\"pema\",2)"
   ]
  },
  {
   "cell_type": "code",
   "execution_count": 15,
   "metadata": {
    "ExecuteTime": {
     "end_time": "2021-10-02T03:02:21.622571Z",
     "start_time": "2021-10-02T03:02:21.613579Z"
    }
   },
   "outputs": [],
   "source": [
    "def gretting3(name,age):\n",
    "    return \"Hello {nm1}, you have {ag1} years experience. emp name {nm1}\".format(nm1=name, ag1=age)"
   ]
  },
  {
   "cell_type": "code",
   "execution_count": 16,
   "metadata": {
    "ExecuteTime": {
     "end_time": "2021-10-02T03:02:33.746218Z",
     "start_time": "2021-10-02T03:02:33.726231Z"
    }
   },
   "outputs": [
    {
     "data": {
      "text/plain": [
       "'Hello tashi, you have 1 years experience. emp name tashi'"
      ]
     },
     "execution_count": 16,
     "metadata": {},
     "output_type": "execute_result"
    }
   ],
   "source": [
    "gretting3('tashi',1)"
   ]
  },
  {
   "cell_type": "code",
   "execution_count": 17,
   "metadata": {
    "ExecuteTime": {
     "end_time": "2021-10-02T03:02:57.941811Z",
     "start_time": "2021-10-02T03:02:57.931816Z"
    }
   },
   "outputs": [],
   "source": [
    "# here order doesnt matter"
   ]
  },
  {
   "cell_type": "code",
   "execution_count": null,
   "metadata": {},
   "outputs": [],
   "source": []
  }
 ],
 "metadata": {
  "kernelspec": {
   "display_name": "Python 3",
   "language": "python",
   "name": "python3"
  },
  "language_info": {
   "codemirror_mode": {
    "name": "ipython",
    "version": 3
   },
   "file_extension": ".py",
   "mimetype": "text/x-python",
   "name": "python",
   "nbconvert_exporter": "python",
   "pygments_lexer": "ipython3",
   "version": "3.8.3"
  },
  "varInspector": {
   "cols": {
    "lenName": 16,
    "lenType": 16,
    "lenVar": 40
   },
   "kernels_config": {
    "python": {
     "delete_cmd_postfix": "",
     "delete_cmd_prefix": "del ",
     "library": "var_list.py",
     "varRefreshCmd": "print(var_dic_list())"
    },
    "r": {
     "delete_cmd_postfix": ") ",
     "delete_cmd_prefix": "rm(",
     "library": "var_list.r",
     "varRefreshCmd": "cat(var_dic_list()) "
    }
   },
   "types_to_exclude": [
    "module",
    "function",
    "builtin_function_or_method",
    "instance",
    "_Feature"
   ],
   "window_display": false
  }
 },
 "nbformat": 4,
 "nbformat_minor": 4
}
