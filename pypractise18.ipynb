{
 "cells": [
  {
   "cell_type": "markdown",
   "metadata": {},
   "source": [
    "### Advanced Python exception"
   ]
  },
  {
   "cell_type": "markdown",
   "metadata": {},
   "source": [
    "### Python exception handling"
   ]
  },
  {
   "cell_type": "code",
   "execution_count": 1,
   "metadata": {
    "ExecuteTime": {
     "end_time": "2021-10-07T05:22:33.123428Z",
     "start_time": "2021-10-07T05:22:33.053471Z"
    }
   },
   "outputs": [
    {
     "ename": "NameError",
     "evalue": "name 'b' is not defined",
     "output_type": "error",
     "traceback": [
      "\u001b[1;31m---------------------------------------------------------------------------\u001b[0m",
      "\u001b[1;31mNameError\u001b[0m                                 Traceback (most recent call last)",
      "\u001b[1;32m<ipython-input-1-4eca7246c78b>\u001b[0m in \u001b[0;36m<module>\u001b[1;34m\u001b[0m\n\u001b[1;32m----> 1\u001b[1;33m \u001b[0ma\u001b[0m\u001b[1;33m=\u001b[0m \u001b[0mb\u001b[0m\u001b[1;33m\u001b[0m\u001b[1;33m\u001b[0m\u001b[0m\n\u001b[0m",
      "\u001b[1;31mNameError\u001b[0m: name 'b' is not defined"
     ]
    }
   ],
   "source": [
    "a= b"
   ]
  },
  {
   "cell_type": "code",
   "execution_count": null,
   "metadata": {},
   "outputs": [],
   "source": []
  },
  {
   "cell_type": "code",
   "execution_count": 9,
   "metadata": {
    "ExecuteTime": {
     "end_time": "2021-10-07T05:51:47.459752Z",
     "start_time": "2021-10-07T05:51:47.447757Z"
    }
   },
   "outputs": [
    {
     "name": "stdout",
     "output_type": "stream",
     "text": [
      "the user have not defined the variable\n"
     ]
    }
   ],
   "source": [
    "try: \n",
    "    ## code block where exception can occur\n",
    "    a=b \n",
    "except NameError as ex1:\n",
    "    print(\"the user have not defined the variable\")\n",
    "    # nameerror is derived from exception\n",
    "    # whenever we try to catch the exception we cant write exception at the top\n",
    "    # exception should written in the last\n",
    "    # child classes should be on the top\n",
    "except Exception as ex:\n",
    "    print(ex)"
   ]
  },
  {
   "cell_type": "code",
   "execution_count": 10,
   "metadata": {
    "ExecuteTime": {
     "end_time": "2021-10-07T05:55:00.043495Z",
     "start_time": "2021-10-07T05:55:00.033501Z"
    }
   },
   "outputs": [
    {
     "name": "stdout",
     "output_type": "stream",
     "text": [
      "unsupported operand type(s) for +: 'int' and 'str'\n"
     ]
    }
   ],
   "source": [
    "try:\n",
    "    a = 1\n",
    "    b = 's'\n",
    "    c = a+b\n",
    "    \n",
    "except NameError as ex2:\n",
    "    print(\"the user have not defined the  variable\")\n",
    "\n",
    "except Exception as ex3:\n",
    "    print(ex3)"
   ]
  },
  {
   "cell_type": "code",
   "execution_count": 11,
   "metadata": {
    "ExecuteTime": {
     "end_time": "2021-10-07T05:55:43.623884Z",
     "start_time": "2021-10-07T05:55:43.596905Z"
    }
   },
   "outputs": [
    {
     "ename": "TypeError",
     "evalue": "unsupported operand type(s) for +: 'int' and 'str'",
     "output_type": "error",
     "traceback": [
      "\u001b[1;31m---------------------------------------------------------------------------\u001b[0m",
      "\u001b[1;31mTypeError\u001b[0m                                 Traceback (most recent call last)",
      "\u001b[1;32m<ipython-input-11-321430ca5ad3>\u001b[0m in \u001b[0;36m<module>\u001b[1;34m\u001b[0m\n\u001b[0;32m      1\u001b[0m \u001b[0ma\u001b[0m \u001b[1;33m=\u001b[0m \u001b[1;36m1\u001b[0m\u001b[1;33m\u001b[0m\u001b[1;33m\u001b[0m\u001b[0m\n\u001b[0;32m      2\u001b[0m \u001b[0mb\u001b[0m \u001b[1;33m=\u001b[0m \u001b[1;34m's'\u001b[0m\u001b[1;33m\u001b[0m\u001b[1;33m\u001b[0m\u001b[0m\n\u001b[1;32m----> 3\u001b[1;33m \u001b[0mc\u001b[0m \u001b[1;33m=\u001b[0m \u001b[0ma\u001b[0m\u001b[1;33m+\u001b[0m\u001b[0mb\u001b[0m\u001b[1;33m\u001b[0m\u001b[1;33m\u001b[0m\u001b[0m\n\u001b[0m",
      "\u001b[1;31mTypeError\u001b[0m: unsupported operand type(s) for +: 'int' and 'str'"
     ]
    }
   ],
   "source": [
    "a = 1\n",
    "b = 's'\n",
    "c = a+b"
   ]
  },
  {
   "cell_type": "code",
   "execution_count": 12,
   "metadata": {
    "ExecuteTime": {
     "end_time": "2021-10-07T05:56:57.142838Z",
     "start_time": "2021-10-07T05:56:57.132844Z"
    }
   },
   "outputs": [
    {
     "name": "stdout",
     "output_type": "stream",
     "text": [
      "Try to make the datatype similar\n"
     ]
    }
   ],
   "source": [
    "try:\n",
    "    a = 1\n",
    "    b = 's'\n",
    "    c = a+b\n",
    "    \n",
    "except NameError:\n",
    "    print(\"the user have not defined the  variable\")\n",
    "except TypeError:\n",
    "    print('Try to make the datatype similar')\n",
    "except Exception as ex:\n",
    "    print(ex)"
   ]
  },
  {
   "cell_type": "code",
   "execution_count": 16,
   "metadata": {
    "ExecuteTime": {
     "end_time": "2021-10-07T06:27:28.654680Z",
     "start_time": "2021-10-07T06:27:24.939296Z"
    }
   },
   "outputs": [
    {
     "name": "stdout",
     "output_type": "stream",
     "text": [
      "enter the number 1 :15\n",
      "enter the number 2 :0\n",
      "division by zero\n"
     ]
    }
   ],
   "source": [
    "try:\n",
    "    a = int(input(\"enter the number 1 :\"))\n",
    "    b = int(input(\"enter the number 2 :\"))\n",
    "    c = a/b\n",
    "    d = a+b \n",
    "    e = a-b \n",
    "    print(c)\n",
    "    print(d)\n",
    "    print(e)\n",
    "except NameError:\n",
    "    print(\"the user have not defined the  variable\")\n",
    "except TypeError:\n",
    "    print('Try to make the datatype similar')\n",
    "except Exception as ex:\n",
    "    print(ex)"
   ]
  },
  {
   "cell_type": "code",
   "execution_count": 18,
   "metadata": {
    "ExecuteTime": {
     "end_time": "2021-10-07T06:27:49.236193Z",
     "start_time": "2021-10-07T06:27:49.217208Z"
    }
   },
   "outputs": [
    {
     "ename": "ZeroDivisionError",
     "evalue": "division by zero",
     "output_type": "error",
     "traceback": [
      "\u001b[1;31m---------------------------------------------------------------------------\u001b[0m",
      "\u001b[1;31mZeroDivisionError\u001b[0m                         Traceback (most recent call last)",
      "\u001b[1;32m<ipython-input-18-a5d7811d9813>\u001b[0m in \u001b[0;36m<module>\u001b[1;34m\u001b[0m\n\u001b[1;32m----> 1\u001b[1;33m \u001b[1;36m15\u001b[0m\u001b[1;33m/\u001b[0m\u001b[1;36m0\u001b[0m\u001b[1;33m\u001b[0m\u001b[1;33m\u001b[0m\u001b[0m\n\u001b[0m",
      "\u001b[1;31mZeroDivisionError\u001b[0m: division by zero"
     ]
    }
   ],
   "source": [
    "15/0 "
   ]
  },
  {
   "cell_type": "code",
   "execution_count": 19,
   "metadata": {
    "ExecuteTime": {
     "end_time": "2021-10-07T06:35:05.084032Z",
     "start_time": "2021-10-07T06:35:05.065047Z"
    }
   },
   "outputs": [],
   "source": [
    "# we need to add zerodivision error in the exception"
   ]
  },
  {
   "cell_type": "code",
   "execution_count": 20,
   "metadata": {
    "ExecuteTime": {
     "end_time": "2021-10-07T06:44:09.251303Z",
     "start_time": "2021-10-07T06:44:05.323345Z"
    }
   },
   "outputs": [
    {
     "name": "stdout",
     "output_type": "stream",
     "text": [
      "enter the number 1 :15\n",
      "enter the number 2 :0\n",
      "provide a number greater than 0\n"
     ]
    }
   ],
   "source": [
    "try:\n",
    "    a = int(input(\"enter the number 1 :\"))\n",
    "    b = int(input(\"enter the number 2 :\"))\n",
    "    c = a/b\n",
    "    d = a+b \n",
    "    e = a-b \n",
    "    print(c)\n",
    "    print(d)\n",
    "    print(e)\n",
    "except NameError:\n",
    "    print(\"the user have not defined the  variable\")\n",
    "except ZeroDivisionError:\n",
    "    print(\"provide a number greater than 0\")\n",
    "except TypeError:\n",
    "    print('Try to make the datatype similar')\n",
    "except Exception as ex:\n",
    "    print(ex)"
   ]
  },
  {
   "cell_type": "code",
   "execution_count": 23,
   "metadata": {
    "ExecuteTime": {
     "end_time": "2021-10-07T06:48:08.850453Z",
     "start_time": "2021-10-07T06:48:05.064611Z"
    }
   },
   "outputs": [
    {
     "name": "stdout",
     "output_type": "stream",
     "text": [
      "enter the number 1 :25\n",
      "enter the number 2 :2\n",
      "12.5\n",
      "27\n",
      "23\n"
     ]
    }
   ],
   "source": [
    "# try and else\n",
    "try:\n",
    "    a = int(input(\"enter the number 1 :\"))\n",
    "    b = int(input(\"enter the number 2 :\"))\n",
    "    c = a/b\n",
    "    d = a+b \n",
    "    e = a-b \n",
    "\n",
    "except NameError:\n",
    "    print(\"the user have not defined the  variable\")\n",
    "except ZeroDivisionError:\n",
    "    print(\"provide a number greater than 0\")\n",
    "except TypeError:\n",
    "    print('Try to make the datatype similar')\n",
    "except Exception as ex:\n",
    "    print(ex)\n",
    "\n",
    "else: # we can use else here too!!\n",
    "    print(c)\n",
    "    print(d)\n",
    "    print(e)    "
   ]
  },
  {
   "cell_type": "code",
   "execution_count": 22,
   "metadata": {
    "ExecuteTime": {
     "end_time": "2021-10-07T06:46:53.891488Z",
     "start_time": "2021-10-07T06:46:53.886488Z"
    }
   },
   "outputs": [],
   "source": [
    "# executed without exception"
   ]
  },
  {
   "cell_type": "code",
   "execution_count": 24,
   "metadata": {
    "ExecuteTime": {
     "end_time": "2021-10-07T06:59:21.989527Z",
     "start_time": "2021-10-07T06:59:18.539247Z"
    }
   },
   "outputs": [
    {
     "name": "stdout",
     "output_type": "stream",
     "text": [
      "enter the number 1 :15\n",
      "enter the number 2 :5\n",
      "3.0\n",
      "20\n",
      "10\n",
      "the execution is done\n"
     ]
    }
   ],
   "source": [
    "# try else finally\n",
    "try:\n",
    "    a = int(input(\"enter the number 1 :\"))\n",
    "    b = int(input(\"enter the number 2 :\"))\n",
    "    c = a/b\n",
    "    d = a+b \n",
    "    e = a-b \n",
    "\n",
    "except NameError:\n",
    "    print(\"the user have not defined the  variable\")\n",
    "except ZeroDivisionError:\n",
    "    print(\"provide a number greater than 0\")\n",
    "except TypeError:\n",
    "    print('Try to make the datatype similar')\n",
    "except Exception as ex:\n",
    "    print(ex)\n",
    "\n",
    "else: # we can use else here too!!\n",
    "    print(c)\n",
    "    print(d)\n",
    "    print(e)\n",
    "finally:\n",
    "    print(\"the execution is done\")"
   ]
  },
  {
   "cell_type": "code",
   "execution_count": 25,
   "metadata": {
    "ExecuteTime": {
     "end_time": "2021-10-07T06:59:46.238057Z",
     "start_time": "2021-10-07T06:59:46.227064Z"
    }
   },
   "outputs": [],
   "source": [
    "# this finally is very useful when we connect it to database"
   ]
  },
  {
   "cell_type": "code",
   "execution_count": null,
   "metadata": {},
   "outputs": [],
   "source": []
  }
 ],
 "metadata": {
  "kernelspec": {
   "display_name": "Python 3",
   "language": "python",
   "name": "python3"
  },
  "language_info": {
   "codemirror_mode": {
    "name": "ipython",
    "version": 3
   },
   "file_extension": ".py",
   "mimetype": "text/x-python",
   "name": "python",
   "nbconvert_exporter": "python",
   "pygments_lexer": "ipython3",
   "version": "3.8.3"
  },
  "varInspector": {
   "cols": {
    "lenName": 16,
    "lenType": 16,
    "lenVar": 40
   },
   "kernels_config": {
    "python": {
     "delete_cmd_postfix": "",
     "delete_cmd_prefix": "del ",
     "library": "var_list.py",
     "varRefreshCmd": "print(var_dic_list())"
    },
    "r": {
     "delete_cmd_postfix": ") ",
     "delete_cmd_prefix": "rm(",
     "library": "var_list.r",
     "varRefreshCmd": "cat(var_dic_list()) "
    }
   },
   "types_to_exclude": [
    "module",
    "function",
    "builtin_function_or_method",
    "instance",
    "_Feature"
   ],
   "window_display": false
  }
 },
 "nbformat": 4,
 "nbformat_minor": 4
}
